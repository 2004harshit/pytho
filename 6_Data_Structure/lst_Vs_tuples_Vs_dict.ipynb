{
 "cells": [
  {
   "cell_type": "code",
   "execution_count": 1,
   "metadata": {},
   "outputs": [],
   "source": [
    "import sys"
   ]
  },
  {
   "cell_type": "code",
   "execution_count": 2,
   "metadata": {},
   "outputs": [
    {
     "data": {
      "text/plain": [
       "\"This module provides access to some objects used or maintained by the\\ninterpreter and to functions that interact strongly with the interpreter.\\n\\nDynamic objects:\\n\\nargv -- command line arguments; argv[0] is the script pathname if known\\npath -- module search path; path[0] is the script directory, else ''\\nmodules -- dictionary of loaded modules\\n\\ndisplayhook -- called to show results in an interactive session\\nexcepthook -- called to handle any uncaught exception other than SystemExit\\n  To customize printing in an interactive session or to install a custom\\n  top-level exception handler, assign other functions to replace these.\\n\\nstdin -- standard input file object; used by input()\\nstdout -- standard output file object; used by print()\\nstderr -- standard error object; used for error messages\\n  By assigning other file objects (or objects that behave like files)\\n  to these, it is possible to redirect all of the interpreter's I/O.\\n\\nlast_exc - the last uncaught exception\\n  Only available in an interactive session after a\\n  traceback has been printed.\\nlast_type -- type of last uncaught exception\\nlast_value -- value of last uncaught exception\\nlast_traceback -- traceback of last uncaught exception\\n  These three are the (deprecated) legacy representation of last_exc.\\n\\nStatic objects:\\n\\nbuiltin_module_names -- tuple of module names built into this interpreter\\ncopyright -- copyright notice pertaining to this interpreter\\nexec_prefix -- prefix used to find the machine-specific Python library\\nexecutable -- absolute path of the executable binary of the Python interpreter\\nfloat_info -- a named tuple with information about the float implementation.\\nfloat_repr_style -- string indicating the style of repr() output for floats\\nhash_info -- a named tuple with information about the hash algorithm.\\nhexversion -- version information encoded as a single integer\\nimplementation -- Python implementation information.\\nint_info -- a named tuple with information about the int implementation.\\nmaxsize -- the largest supported length of containers.\\nmaxunicode -- the value of the largest Unicode code point\\nplatform -- platform identifier\\nprefix -- prefix used to find the Python library\\nthread_info -- a named tuple with information about the thread implementation.\\nversion -- the version of this interpreter as a string\\nversion_info -- version information as a named tuple\\ndllhandle -- [Windows only] integer handle of the Python DLL\\nwinver -- [Windows only] version number of the Python DLL\\n_enablelegacywindowsfsencoding -- [Windows only]\\n__stdin__ -- the original stdin; don't touch!\\n__stdout__ -- the original stdout; don't touch!\\n__stderr__ -- the original stderr; don't touch!\\n__displayhook__ -- the original displayhook; don't touch!\\n__excepthook__ -- the original excepthook; don't touch!\\n\\nFunctions:\\n\\ndisplayhook() -- print an object to the screen, and save it in builtins._\\nexcepthook() -- print an exception and its traceback to sys.stderr\\nexception() -- return the current thread's active exception\\nexc_info() -- return information about the current thread's active exception\\nexit() -- exit the interpreter by raising SystemExit\\ngetdlopenflags() -- returns flags to be used for dlopen() calls\\ngetprofile() -- get the global profiling function\\ngetrefcount() -- return the reference count for an object (plus one :-)\\ngetrecursionlimit() -- return the max recursion depth for the interpreter\\ngetsizeof() -- return the size of an object in bytes\\ngettrace() -- get the global debug tracing function\\nsetdlopenflags() -- set the flags to be used for dlopen() calls\\nsetprofile() -- set the global profiling function\\nsetrecursionlimit() -- set the max recursion depth for the interpreter\\nsettrace() -- set the global debug tracing function\\n\""
      ]
     },
     "execution_count": 2,
     "metadata": {},
     "output_type": "execute_result"
    }
   ],
   "source": [
    "sys.__doc__"
   ]
  },
  {
   "cell_type": "markdown",
   "metadata": {},
   "source": [
    "This module provides access to some objects used or maintained by the\n",
    "interpreter and to functions that interact strongly with the interpreter.\n",
    "\n",
    "Dynamic objects:\n",
    "\n",
    "argv -- command line arguments; argv[0] is the script pathname if known<br>\n",
    "path -- module search path; path[0] is the script directory, else ''<br>\n",
    "modules -- dictionary of loaded modules<br>\n",
    "\n",
    "displayhook -- called to show results in an interactive session<br>\n",
    "excepthook -- called to handle any uncaught exception other than SystemExit<br>\n",
    "  To customize printing in an interactive session or to install a custom<br>\n",
    "  top-level exception handler, assign other functions to replace these.<br>\n",
    "\n",
    "stdin -- standard input file object; used by input()<br>\n",
    "stdout -- standard output file object; used by print()<br>\n",
    "stderr -- standard error object; used for error messages<br>\n",
    "  By assigning other file objects (or objects that behave like files)\n",
    "  to these, it is possible to redirect all of the interpreter's I/O.\n",
    "\n",
    "last_exc - the last uncaught exception\n",
    "  Only available in an interactive session after a\n",
    "  traceback has been printed.\n",
    "last_type -- type of last uncaught exception<br>\n",
    "last_value -- value of last uncaught exception<br>\n",
    "last_traceback -- traceback of last uncaught exception\n",
    "  These three are the (deprecated) legacy representation of last_exc.\n",
    "\n",
    "Static objects:\n",
    "\n",
    "builtin_module_names -- tuple of module names built into this interpreter<br>\n",
    "copyright -- copyright notice pertaining to this interpreter<br>\n",
    "exec_prefix -- prefix used to find the machine-specific Python library<br><br>\n",
    "executable -- absolute path of the executable binary of the Python interpreter<br>\n",
    "float_info -- a named tuple with information about the float implementation.<br>\n",
    "float_repr_style -- string indicating the style of repr() output for floats<br>\n",
    "hash_info -- a named tuple with information about the hash algorithm.<br>\n",
    "hexversion -- version information encoded as a single integer<br>\n",
    "implementation -- Python implementation information.<br>\n",
    "int_info -- a named tuple with information about the int implementation.<br>\n",
    "maxsize -- the largest supported length of containers.<br>\n",
    "maxunicode -- the value of the largest Unicode code point<br>\n",
    "platform -- platform identifier<br>\n",
    "prefix -- prefix used to find the Python library<br>\n",
    "thread_info -- a named tuple with information about the thread implementation.<br<br>>\n",
    "version -- the version of this interpreter as a string<br>\n",
    "version_info -- version information as a named tuple<br>\n",
    "dllhandle -- [Windows only] integer handle of the Python DLL<br>\n",
    "winver -- [Windows only] version number of the Python DLL<br>\n",
    "_enablelegacywindowsfsencoding -- [Windows only]<br>\n",
    "__stdin__ -- the original stdin; don't touch!<br>\n",
    "__stdout__ -- the original stdout; don't touch!<br>\n",
    "__stderr__ -- the original stderr; don't touch!<br>\n",
    "__displayhook__ -- the original displayhook; don't touch!<br>\n",
    "__excepthook__ -- the original excepthook; don't touch!<br>\n",
    "\n",
    "Functions:\n",
    "\n",
    "displayhook() -- print an object to the screen, and save it in builtins._<br>\n",
    "excepthook() -- print an exception and its traceback to sys.stderr<br>\n",
    "exception() -- return the current thread's active exception<br>\n",
    "exc_info() -- return information about the current thread's active exception<br>\n",
    "exit() -- exit the interpreter by raising SystemExit<br>\n",
    "getdlopenflags() -- returns flags to be used for dlopen() calls<br>\n",
    "getprofile() -- get the global profiling function<br>\n",
    "getrefcount() -- return the reference count for an object (plus one :-)<br>\n",
    "getrecursionlimit() -- return the max recursion depth for the interpreter<br>\n",
    "getsizeof() -- return the size of an object in bytes<br>\n",
    "gettrace() -- get the global debug tracing function<br>\n",
    "setdlopenflags() -- set the flags to be used for dlopen() calls<br>\n",
    "setprofile() -- set the global profiling function<br>\n",
    "setrecursionlimit() -- set the max recursion depth for the interpreter<br>\n",
    "settrace() -- set the global debug tracing function<br>\n",
    "\n",
    "PS D:\\DATA SCIENCE AND ML\\1_PYTHON>   "
   ]
  },
  {
   "cell_type": "code",
   "execution_count": 4,
   "metadata": {},
   "outputs": [
    {
     "data": {
      "text/plain": [
       "('_abc',\n",
       " '_ast',\n",
       " '_bisect',\n",
       " '_blake2',\n",
       " '_codecs',\n",
       " '_codecs_cn',\n",
       " '_codecs_hk',\n",
       " '_codecs_iso2022',\n",
       " '_codecs_jp',\n",
       " '_codecs_kr',\n",
       " '_codecs_tw',\n",
       " '_collections',\n",
       " '_contextvars',\n",
       " '_csv',\n",
       " '_datetime',\n",
       " '_functools',\n",
       " '_heapq',\n",
       " '_imp',\n",
       " '_io',\n",
       " '_json',\n",
       " '_locale',\n",
       " '_lsprof',\n",
       " '_md5',\n",
       " '_multibytecodec',\n",
       " '_opcode',\n",
       " '_operator',\n",
       " '_pickle',\n",
       " '_random',\n",
       " '_sha1',\n",
       " '_sha2',\n",
       " '_sha3',\n",
       " '_signal',\n",
       " '_sre',\n",
       " '_stat',\n",
       " '_statistics',\n",
       " '_string',\n",
       " '_struct',\n",
       " '_symtable',\n",
       " '_thread',\n",
       " '_tokenize',\n",
       " '_tracemalloc',\n",
       " '_typing',\n",
       " '_warnings',\n",
       " '_weakref',\n",
       " '_winapi',\n",
       " '_xxinterpchannels',\n",
       " '_xxsubinterpreters',\n",
       " 'array',\n",
       " 'atexit',\n",
       " 'audioop',\n",
       " 'binascii',\n",
       " 'builtins',\n",
       " 'cmath',\n",
       " 'errno',\n",
       " 'faulthandler',\n",
       " 'gc',\n",
       " 'itertools',\n",
       " 'marshal',\n",
       " 'math',\n",
       " 'mmap',\n",
       " 'msvcrt',\n",
       " 'nt',\n",
       " 'sys',\n",
       " 'time',\n",
       " 'winreg',\n",
       " 'xxsubtype',\n",
       " 'zlib')"
      ]
     },
     "execution_count": 4,
     "metadata": {},
     "output_type": "execute_result"
    }
   ],
   "source": [
    "sys.builtin_module_names"
   ]
  },
  {
   "cell_type": "code",
   "execution_count": 5,
   "metadata": {},
   "outputs": [
    {
     "data": {
      "text/plain": [
       "'Copyright (c) 2001-2023 Python Software Foundation.\\nAll Rights Reserved.\\n\\nCopyright (c) 2000 BeOpen.com.\\nAll Rights Reserved.\\n\\nCopyright (c) 1995-2001 Corporation for National Research Initiatives.\\nAll Rights Reserved.\\n\\nCopyright (c) 1991-1995 Stichting Mathematisch Centrum, Amsterdam.\\nAll Rights Reserved.'"
      ]
     },
     "execution_count": 5,
     "metadata": {},
     "output_type": "execute_result"
    }
   ],
   "source": [
    "sys.copyright"
   ]
  },
  {
   "cell_type": "code",
   "execution_count": 6,
   "metadata": {},
   "outputs": [
    {
     "data": {
      "text/plain": [
       "<_io.TextIOWrapper name='<stdin>' mode='r' encoding='utf-8'>"
      ]
     },
     "execution_count": 6,
     "metadata": {},
     "output_type": "execute_result"
    }
   ],
   "source": [
    "sys.stdin"
   ]
  },
  {
   "cell_type": "code",
   "execution_count": 12,
   "metadata": {},
   "outputs": [
    {
     "data": {
      "text/plain": [
       "<function sys.getprofile()>"
      ]
     },
     "execution_count": 12,
     "metadata": {},
     "output_type": "execute_result"
    }
   ],
   "source": [
    "sys.getprofile"
   ]
  },
  {
   "cell_type": "code",
   "execution_count": 16,
   "metadata": {},
   "outputs": [
    {
     "data": {
      "text/plain": [
       "28"
      ]
     },
     "execution_count": 16,
     "metadata": {},
     "output_type": "execute_result"
    }
   ],
   "source": [
    "sys.getsizeof(2)"
   ]
  },
  {
   "cell_type": "code",
   "execution_count": 17,
   "metadata": {},
   "outputs": [
    {
     "name": "stdout",
     "output_type": "stream",
     "text": [
      "72\n",
      "56\n",
      "224\n"
     ]
    }
   ],
   "source": [
    "lst=[\"harshit\",\"aman\"]\n",
    "tup=(\"harshit\",\"aman\")\n",
    "dict = {\n",
    "    1:\"harshit\",\n",
    "    2:\"aman\"\n",
    "}\n",
    "\n",
    "print(sys.getsizeof(lst))\n",
    "print(sys.getsizeof(tup))\n",
    "print(sys.getsizeof(dict))"
   ]
  }
 ],
 "metadata": {
  "kernelspec": {
   "display_name": "Python 3",
   "language": "python",
   "name": "python3"
  },
  "language_info": {
   "codemirror_mode": {
    "name": "ipython",
    "version": 3
   },
   "file_extension": ".py",
   "mimetype": "text/x-python",
   "name": "python",
   "nbconvert_exporter": "python",
   "pygments_lexer": "ipython3",
   "version": "3.12.4"
  }
 },
 "nbformat": 4,
 "nbformat_minor": 2
}
