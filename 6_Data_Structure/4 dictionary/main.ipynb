{
 "cells": [
  {
   "cell_type": "markdown",
   "metadata": {},
   "source": [
    "### Dictionary \n",
    "> stores values in key value format."
   ]
  },
  {
   "cell_type": "code",
   "execution_count": 8,
   "metadata": {},
   "outputs": [
    {
     "name": "stdout",
     "output_type": "stream",
     "text": [
      "{1: 'Aman Kumar', 2: 'Abhinav Chauhan', 3: 'Bheem', 4: 'Chutki', 5: ' Raju', 6: 'Jaggu'}\n",
      "dict_keys([1, 2, 3, 4, 5, 6])\n",
      "dict_values(['Aman Kumar', 'Abhinav Chauhan', 'Bheem', 'Chutki', ' Raju', 'Jaggu'])\n",
      "dict_items([(1, 'Aman Kumar'), (2, 'Abhinav Chauhan'), (3, 'Bheem'), (4, 'Chutki'), (5, ' Raju'), (6, 'Jaggu')])\n"
     ]
    }
   ],
   "source": [
    "student = {1:\"Aman Kumar\",\n",
    "                    2:\"Abhinav Chauhan\",\n",
    "                    3:\"Bheem\",\n",
    "                    4:\"Chutki\",\n",
    "                    5:\" Raju\",\n",
    "                    6:\"Jaggu\"\n",
    "                    }\n",
    "print(student)\n",
    "print(student.keys())\n",
    "print(student.values())\n",
    "print(student.items())\n",
    "\n"
   ]
  },
  {
   "cell_type": "code",
   "execution_count": 2,
   "metadata": {},
   "outputs": [
    {
     "name": "stdout",
     "output_type": "stream",
     "text": [
      "1\n",
      "2\n",
      "3\n",
      "4\n",
      "5\n",
      "6\n"
     ]
    }
   ],
   "source": [
    "for key in student : \n",
    "    print(key)"
   ]
  },
  {
   "cell_type": "code",
   "execution_count": 5,
   "metadata": {},
   "outputs": [
    {
     "name": "stdout",
     "output_type": "stream",
     "text": [
      "Aman Kumar\n",
      "Abhinav Chauhan\n",
      "Bheem\n",
      "Chutki\n",
      " Raju\n",
      "Jaggu\n"
     ]
    }
   ],
   "source": [
    "for value in student:\n",
    "    print(student[value])"
   ]
  },
  {
   "cell_type": "code",
   "execution_count": 10,
   "metadata": {},
   "outputs": [
    {
     "name": "stdout",
     "output_type": "stream",
     "text": [
      "1 Aman Kumar\n",
      "2 Abhinav Chauhan\n",
      "3 Bheem\n",
      "4 Chutki\n",
      "5  Raju\n",
      "6 Jaggu\n"
     ]
    }
   ],
   "source": [
    "for x,v in student.items():\n",
    "    print(x,v)"
   ]
  }
 ],
 "metadata": {
  "kernelspec": {
   "display_name": "Python 3",
   "language": "python",
   "name": "python3"
  },
  "language_info": {
   "codemirror_mode": {
    "name": "ipython",
    "version": 3
   },
   "file_extension": ".py",
   "mimetype": "text/x-python",
   "name": "python",
   "nbconvert_exporter": "python",
   "pygments_lexer": "ipython3",
   "version": "undefined.undefined.undefined"
  }
 },
 "nbformat": 4,
 "nbformat_minor": 2
}
