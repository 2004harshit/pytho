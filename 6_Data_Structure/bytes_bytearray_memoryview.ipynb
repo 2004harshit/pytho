{
 "cells": [
  {
   "cell_type": "markdown",
   "metadata": {},
   "source": [
    "### bytes and bytearray as Data Structures\n",
    "<br>\n",
    "#### bytes:\n",
    "\n",
    "<font color=\"red\" >Immutable: </font>Once created, the contents cannot be changed.<br>\n",
    "<font color = \"red\">Use Case: </font>Suitable for handling read-only data, like receiving data from a network or reading from a file.<br>\n",
    "#### bytearray:\n",
    "\n",
    "<font color = \"red\">Mutable: </font>The contents can be modified after creation.<br>\n",
    "<font color = \"red\">Use Case: </font> Useful when you need to manipulate the byte data, such as constructing or modifying data before sending it over a network.\n",
    "<br>\n",
    "\n",
    "#### memoryview:\n",
    "Provides a View: Allows you to access and manipulate the data of an existing bytes or bytearray object without copying it.<br>\n",
    "Efficient: Useful for handling large datasets or when you need to perform operations on slices of data without the overhead of copying.<br>\n",
    "Use Case: When you need to pass around large data structures without duplicating memory or need fine-grained control over portions of the data.<br>"
   ]
  },
  {
   "cell_type": "code",
   "execution_count": 10,
   "metadata": {},
   "outputs": [
    {
     "name": "stdout",
     "output_type": "stream",
     "text": [
      "b'opq'\n",
      "113\n"
     ]
    }
   ],
   "source": [
    "b = bytes([111,112,113])\n",
    "print(b)\n",
    "b.decode(encoding=\"utf-8\")\n",
    "\n",
    "# b= bytes([\"s\",\"a\",\"m\"])    #error  \n",
    "print(b[2])\n"
   ]
  },
  {
   "cell_type": "markdown",
   "metadata": {},
   "source": []
  },
  {
   "cell_type": "markdown",
   "metadata": {},
   "source": []
  },
  {
   "cell_type": "code",
   "execution_count": 13,
   "metadata": {},
   "outputs": [
    {
     "data": {
      "text/plain": [
       "'7b'"
      ]
     },
     "execution_count": 13,
     "metadata": {},
     "output_type": "execute_result"
    }
   ],
   "source": [
    "b= bytes([123])\n",
    "\n",
    "b.hex()"
   ]
  },
  {
   "cell_type": "code",
   "execution_count": 20,
   "metadata": {},
   "outputs": [
    {
     "name": "stdout",
     "output_type": "stream",
     "text": [
      "b'\\xff'\n",
      "b'\\xff'\n"
     ]
    }
   ],
   "source": [
    "b= bytes([255])\n",
    "b.decode\n",
    "print(b)\n",
    "b.capitalize\n",
    "print(b)\n"
   ]
  },
  {
   "cell_type": "code",
   "execution_count": 23,
   "metadata": {},
   "outputs": [
    {
     "ename": "TypeError",
     "evalue": "'bytes' object does not support item assignment",
     "output_type": "error",
     "traceback": [
      "\u001b[1;31m---------------------------------------------------------------------------\u001b[0m",
      "\u001b[1;31mTypeError\u001b[0m                                 Traceback (most recent call last)",
      "Cell \u001b[1;32mIn[23], line 1\u001b[0m\n\u001b[1;32m----> 1\u001b[0m \u001b[43mb\u001b[49m\u001b[43m[\u001b[49m\u001b[38;5;241;43m0\u001b[39;49m\u001b[43m]\u001b[49m\u001b[38;5;241m=\u001b[39m\u001b[38;5;241m123\u001b[39m   \u001b[38;5;66;03m#error\u001b[39;00m\n",
      "\u001b[1;31mTypeError\u001b[0m: 'bytes' object does not support item assignment"
     ]
    }
   ],
   "source": [
    "b[0]=123   #error"
   ]
  },
  {
   "cell_type": "code",
   "execution_count": 25,
   "metadata": {},
   "outputs": [
    {
     "name": "stdout",
     "output_type": "stream",
     "text": [
      "bytearray(b'{|}')\n"
     ]
    }
   ],
   "source": [
    "ba= bytearray([123,124,125])\n",
    "print(ba)"
   ]
  },
  {
   "cell_type": "code",
   "execution_count": 27,
   "metadata": {},
   "outputs": [],
   "source": [
    "ba[0]=255"
   ]
  },
  {
   "cell_type": "code",
   "execution_count": 29,
   "metadata": {},
   "outputs": [
    {
     "data": {
      "text/plain": [
       "bytearray(b'\\xff|}')"
      ]
     },
     "execution_count": 29,
     "metadata": {},
     "output_type": "execute_result"
    }
   ],
   "source": [
    "ba"
   ]
  },
  {
   "cell_type": "code",
   "execution_count": 32,
   "metadata": {},
   "outputs": [
    {
     "name": "stdout",
     "output_type": "stream",
     "text": [
      "<memory at 0x0000020E5D19B940>\n"
     ]
    }
   ],
   "source": [
    "m=memoryview(bytearray([123,124,125]))\n",
    "print(m)"
   ]
  },
  {
   "cell_type": "code",
   "execution_count": 34,
   "metadata": {},
   "outputs": [
    {
     "data": {
      "text/plain": [
       "123"
      ]
     },
     "execution_count": 34,
     "metadata": {},
     "output_type": "execute_result"
    }
   ],
   "source": [
    "m[0]"
   ]
  },
  {
   "cell_type": "code",
   "execution_count": 36,
   "metadata": {},
   "outputs": [],
   "source": [
    "m[0]= 220"
   ]
  },
  {
   "cell_type": "code",
   "execution_count": 38,
   "metadata": {},
   "outputs": [
    {
     "data": {
      "text/plain": [
       "<memory at 0x0000020E5D19B940>"
      ]
     },
     "execution_count": 38,
     "metadata": {},
     "output_type": "execute_result"
    }
   ],
   "source": [
    "m"
   ]
  },
  {
   "cell_type": "code",
   "execution_count": 45,
   "metadata": {},
   "outputs": [
    {
     "name": "stdout",
     "output_type": "stream",
     "text": [
      "<class 'bytes'>\n",
      "1\n"
     ]
    }
   ],
   "source": [
    "b= b\"aman\"\n",
    "b\n",
    "print(type(b))\n",
    "\n",
    "# b= bytes([\"aman\"])\n",
    "\n",
    "# b= bytes((123))\n",
    "\n",
    "b= bytes({1:\"aman\"})\n",
    "\n",
    "print(b[0])\n"
   ]
  },
  {
   "cell_type": "code",
   "execution_count": 50,
   "metadata": {},
   "outputs": [
    {
     "data": {
      "text/plain": [
       "b'aman'"
      ]
     },
     "execution_count": 50,
     "metadata": {},
     "output_type": "execute_result"
    }
   ],
   "source": [
    "b= bytes(\"aman\",encoding=\"utf-8\")\n",
    "b"
   ]
  },
  {
   "cell_type": "markdown",
   "metadata": {},
   "source": []
  },
  {
   "cell_type": "code",
   "execution_count": 54,
   "metadata": {},
   "outputs": [
    {
     "name": "stdout",
     "output_type": "stream",
     "text": [
      "97\n",
      "109\n",
      "97\n",
      "110\n"
     ]
    }
   ],
   "source": [
    "for bytes in b:\n",
    "    print(bytes)"
   ]
  },
  {
   "cell_type": "code",
   "execution_count": 60,
   "metadata": {},
   "outputs": [
    {
     "ename": "TypeError",
     "evalue": "'int' object is not callable",
     "output_type": "error",
     "traceback": [
      "\u001b[1;31m---------------------------------------------------------------------------\u001b[0m",
      "\u001b[1;31mTypeError\u001b[0m                                 Traceback (most recent call last)",
      "Cell \u001b[1;32mIn[60], line 1\u001b[0m\n\u001b[1;32m----> 1\u001b[0m b\u001b[38;5;241m=\u001b[39m \u001b[38;5;28;43mbytes\u001b[39;49m\u001b[43m(\u001b[49m\u001b[43m[\u001b[49m\u001b[38;5;241;43m97\u001b[39;49m\u001b[43m,\u001b[49m\u001b[38;5;241;43m109\u001b[39;49m\u001b[43m,\u001b[49m\u001b[38;5;241;43m97\u001b[39;49m\u001b[43m,\u001b[49m\u001b[38;5;241;43m110\u001b[39;49m\u001b[43m]\u001b[49m\u001b[43m)\u001b[49m\n",
      "\u001b[1;31mTypeError\u001b[0m: 'int' object is not callable"
     ]
    }
   ],
   "source": [
    "b= bytes([97,109,97,110])"
   ]
  }
 ],
 "metadata": {
  "kernelspec": {
   "display_name": "Python 3",
   "language": "python",
   "name": "python3"
  },
  "language_info": {
   "codemirror_mode": {
    "name": "ipython",
    "version": 3
   },
   "file_extension": ".py",
   "mimetype": "text/x-python",
   "name": "python",
   "nbconvert_exporter": "python",
   "pygments_lexer": "ipython3",
   "version": "3.12.4"
  }
 },
 "nbformat": 4,
 "nbformat_minor": 2
}
