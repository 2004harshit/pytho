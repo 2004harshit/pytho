{
 "cells": [
  {
   "cell_type": "code",
   "execution_count": 1,
   "metadata": {},
   "outputs": [
    {
     "ename": "ModuleNotFoundError",
     "evalue": "No module named 'PyPDF2'",
     "output_type": "error",
     "traceback": [
      "\u001b[1;31m---------------------------------------------------------------------------\u001b[0m",
      "\u001b[1;31mModuleNotFoundError\u001b[0m                       Traceback (most recent call last)",
      "Cell \u001b[1;32mIn[1], line 1\u001b[0m\n\u001b[1;32m----> 1\u001b[0m \u001b[38;5;28;01mfrom\u001b[39;00m \u001b[38;5;21;01mPyPDF2\u001b[39;00m \u001b[38;5;28;01mimport\u001b[39;00m PdfReader\n\u001b[0;32m      2\u001b[0m \u001b[38;5;28;01mimport\u001b[39;00m \u001b[38;5;21;01mrandom\u001b[39;00m\n\u001b[0;32m      4\u001b[0m reader  \u001b[38;5;241m=\u001b[39m PdfReader(\u001b[38;5;124m\"\u001b[39m\u001b[38;5;124msentence.pdf\u001b[39m\u001b[38;5;124m\"\u001b[39m)\n",
      "\u001b[1;31mModuleNotFoundError\u001b[0m: No module named 'PyPDF2'"
     ]
    }
   ],
   "source": [
    "from PyPDF2 import PdfReader\n",
    "import random\n",
    "\n",
    "reader  = PdfReader(\"sentence.pdf\")\n",
    "\n",
    "page = reader.pages[12]\n",
    "print(type(page))\n",
    "content = page.extract_text()\n",
    "\n",
    "print(type(content))\n",
    "\n",
    "# print(content)\n",
    "\n",
    "\n",
    "    \n",
    "\n",
    "   \n",
    "\n",
    "\n",
    "\n",
    "\n",
    "\n",
    "\n"
   ]
  },
  {
   "cell_type": "code",
   "execution_count": null,
   "metadata": {},
   "outputs": [],
   "source": [
    "# content is str type ,splitting the content \n",
    "# list[0] == [question+answer]\n",
    "list = content.split('.')\n",
    "length = len(list)    #length of the list \n",
    "# for i in range(2,len(list)) :\n",
    "#     print(f\"{i}  = {list[i]}\")\n",
    "#     newlst = list[i].split(\"\\n\")\n",
    "#     print(newlst)\n",
    "    # "
   ]
  },
  {
   "cell_type": "code",
   "execution_count": null,
   "metadata": {},
   "outputs": [],
   "source": [
    "question = []\n",
    "answer = []\n",
    "\n",
    "for i in range(2,length-1):\n",
    "#   splitting each elemetn of list \n",
    "    lst = list[i].split('\\n')   #lst = lst[0],lst[1]\n",
    "    #lst[0]==question\n",
    "    # lst[1]==answer \n",
    "    # storing question and answer into seperate lists\n",
    "    question.append( lst[0])\n",
    "    answer.append(lst[1])"
   ]
  },
  {
   "cell_type": "code",
   "execution_count": null,
   "metadata": {},
   "outputs": [],
   "source": [
    "# print(question)\n",
    "# print(\"-\"*50)\n",
    "# print(answer)\n",
    "\n",
    "# question list contain some unnecessary spaces as  values so removing it from the list \n",
    "for item in question:\n",
    "    if item == \"  \":\n",
    "        question.remove(item)\n"
   ]
  },
  {
   "cell_type": "code",
   "execution_count": null,
   "metadata": {},
   "outputs": [],
   "source": [
    "print(question)\n",
    "\n",
    "\n",
    "\n",
    "for ans in answer:\n",
    "    print(f\"{ans}      :  {type(ans)}\")\n"
   ]
  },
  {
   "cell_type": "code",
   "execution_count": null,
   "metadata": {},
   "outputs": [],
   "source": [
    "# answer list contains unnecessary integer in str format so removing it \n",
    "new_answer = []\n",
    "length = len(answer)\n",
    "for i in range(0,length):\n",
    "    print(i)\n",
    "    if i%2!=0:\n",
    "       continue\n",
    "    new_answer.append(answer[i])\n",
    "\n",
    "    # if answer[i]-'0'>0 and answer[i]-'0'<100:\n",
    "    #     answer.remove(answer[i])\n",
    "# print(answer)\n",
    "# print(new_answer)\n"
   ]
  },
  {
   "cell_type": "code",
   "execution_count": null,
   "metadata": {},
   "outputs": [],
   "source": [
    "for ans in new_answer :\n",
    "    print(ans)\n",
    "\n",
    "    # print(f\"{q}            : {ans}\")\n",
    "print('-'*50)\n",
    "for q in question:\n",
    "        print(q)\n",
    "   \n",
    "\n",
    "# length = len(new_answer)\n",
    "\n",
    "# x = random.randint(0,length)\n",
    "# print(question[x])\n",
    "# print(answer[x])"
   ]
  }
 ],
 "metadata": {
  "kernelspec": {
   "display_name": "Python 3 (ipykernel)",
   "language": "python",
   "name": "python3"
  },
  "language_info": {
   "codemirror_mode": {
    "name": "ipython",
    "version": 3
   },
   "file_extension": ".py",
   "mimetype": "text/x-python",
   "name": "python",
   "nbconvert_exporter": "python",
   "pygments_lexer": "ipython3",
   "version": "3.11.9"
  }
 },
 "nbformat": 4,
 "nbformat_minor": 4
}
