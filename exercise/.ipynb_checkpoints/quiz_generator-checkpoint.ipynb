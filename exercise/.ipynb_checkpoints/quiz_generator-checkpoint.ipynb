{
 "cells": [
  {
   "cell_type": "code",
   "execution_count": null,
   "metadata": {},
   "outputs": [],
   "source": [
    "from PyPDF2 import PdfReader\n",
    "import random\n",
    "\n",
    "reader  = PdfReader(\"sentence.pdf\")\n",
    "\n",
    "page = reader.pages[12]\n",
    "print(type(page))\n",
    "content = page.extract_text()\n",
    "\n",
    "print(type(content))\n",
    "\n",
    "# print(content)\n",
    "\n",
    "\n",
    "    \n",
    "\n",
    "   \n",
    "\n",
    "\n",
    "\n",
    "\n",
    "\n",
    "\n"
   ]
  },
  {
   "cell_type": "code",
   "execution_count": null,
   "metadata": {},
   "outputs": [],
   "source": [
    "# content is str type ,splitting the content \n",
    "# list[0] == [question+answer]\n",
    "list = content.split('.')\n",
    "length = len(list)    #length of the list \n",
    "# for i in range(2,len(list)) :\n",
    "#     print(f\"{i}  = {list[i]}\")\n",
    "#     newlst = list[i].split(\"\\n\")\n",
    "#     print(newlst)\n",
    "    # "
   ]
  },
  {
   "cell_type": "code",
   "execution_count": null,
   "metadata": {},
   "outputs": [],
   "source": [
    "question = []\n",
    "answer = []\n",
    "\n",
    "for i in range(2,length-1):\n",
    "#   splitting each elemetn of list \n",
    "    lst = list[i].split('\\n')   #lst = lst[0],lst[1]\n",
    "    #lst[0]==question\n",
    "    # lst[1]==answer \n",
    "    # storing question and answer into seperate lists\n",
    "    question.append( lst[0])\n",
    "    answer.append(lst[1])"
   ]
  },
  {
   "cell_type": "code",
   "execution_count": null,
   "metadata": {},
   "outputs": [],
   "source": [
    "# print(question)\n",
    "# print(\"-\"*50)\n",
    "# print(answer)\n",
    "\n",
    "# question list contain some unnecessary spaces as  values so removing it from the list \n",
    "for item in question:\n",
    "    if item == \"  \":\n",
    "        question.remove(item)\n"
   ]
  },
  {
   "cell_type": "code",
   "execution_count": null,
   "metadata": {},
   "outputs": [],
   "source": [
    "print(question)\n",
    "\n",
    "\n",
    "\n",
    "for ans in answer:\n",
    "    print(f\"{ans}      :  {type(ans)}\")\n"
   ]
  },
  {
   "cell_type": "code",
   "execution_count": null,
   "metadata": {},
   "outputs": [],
   "source": [
    "# answer list contains unnecessary integer in str format so removing it \n",
    "new_answer = []\n",
    "length = len(answer)\n",
    "for i in range(0,length):\n",
    "    print(i)\n",
    "    if i%2!=0:\n",
    "       continue\n",
    "    new_answer.append(answer[i])\n",
    "\n",
    "    # if answer[i]-'0'>0 and answer[i]-'0'<100:\n",
    "    #     answer.remove(answer[i])\n",
    "# print(answer)\n",
    "# print(new_answer)\n"
   ]
  },
  {
   "cell_type": "code",
   "execution_count": null,
   "metadata": {},
   "outputs": [],
   "source": [
    "for ans in new_answer :\n",
    "    print(ans)\n",
    "\n",
    "    # print(f\"{q}            : {ans}\")\n",
    "print('-'*50)\n",
    "for q in question:\n",
    "        print(q)\n",
    "   \n",
    "\n",
    "# length = len(new_answer)\n",
    "\n",
    "# x = random.randint(0,length)\n",
    "# print(question[x])\n",
    "# print(answer[x])"
   ]
  }
 ],
 "metadata": {
  "kernelspec": {
   "display_name": "Python 3",
   "language": "python",
   "name": "python3"
  },
  "language_info": {
   "name": "python",
   "version": "3.12.4"
  }
 },
 "nbformat": 4,
 "nbformat_minor": 2
}
